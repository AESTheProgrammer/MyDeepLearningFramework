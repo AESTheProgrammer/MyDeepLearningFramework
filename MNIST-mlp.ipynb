{
 "cells": [
  {
   "cell_type": "markdown",
   "metadata": {},
   "source": [
    "### Import Libraries"
   ]
  },
  {
   "cell_type": "code",
   "execution_count": 416,
   "metadata": {},
   "outputs": [
    {
     "name": "stdout",
     "output_type": "stream",
     "text": [
      "The autoreload extension is already loaded. To reload it, use:\n",
      "  %reload_ext autoreload\n"
     ]
    }
   ],
   "source": [
    "\"If it does not work use code below while running this notebook in this dir.\"\n",
    "import sys\n",
    "import os\n",
    "# sys.path.append(os.path.abspath(os.getcwd()))\n",
    "sys.path.append(os.path.abspath(os.getcwd() + \"\\\\Desktop\\\\CIHW\"))\n",
    "\n",
    "%load_ext autoreload\n",
    "\n",
    "\n",
    "%autoreload 2\n",
    "from mytorch import Tensor, Model\n",
    "%autoreload 2\n",
    "from mytorch import activation as active_func\n",
    "%autoreload 2\n",
    "from mytorch import loss as loss_func\n",
    "%autoreload 2\n",
    "from mytorch import optimizer as optim \n",
    "from mytorch import layer as nn\n",
    "from mytorch.util import DataLoader\n",
    "import numpy as np\n",
    "\n",
    "from mytorch.util import flatten\n",
    "import matplotlib.pyplot as plt"
   ]
  },
  {
   "cell_type": "code",
   "execution_count": 417,
   "metadata": {},
   "outputs": [
    {
     "name": "stdout",
     "output_type": "stream",
     "text": [
      "C:\\Users\\armin\\Desktop\\CIHW\n"
     ]
    }
   ],
   "source": [
    "print(sys.path[-1])"
   ]
  },
  {
   "cell_type": "markdown",
   "metadata": {},
   "source": [
    "### Load MNIST"
   ]
  },
  {
   "cell_type": "code",
   "execution_count": 418,
   "metadata": {},
   "outputs": [
    {
     "name": "stdout",
     "output_type": "stream",
     "text": [
      "loading train...\n",
      "loading test...\n",
      "processing...\n"
     ]
    },
    {
     "data": {
      "text/plain": [
       "'you can see how data is loaded'"
      ]
     },
     "execution_count": 418,
     "metadata": {},
     "output_type": "execute_result"
    }
   ],
   "source": [
    "\"\"\"\n",
    "load data set with given data loader.\n",
    "you have 10000 train data, 1000 for each number, remember to shuffle training data.\n",
    "you have 1000 test data, 100 for each number.\n",
    "\n",
    "loaded data is a list of (img, label)\n",
    "type of img is Tensor.\n",
    "\n",
    "TODO: you have to get this list and create batches for training.\n",
    "you can also apply this changes later in the Training part for convenience.\n",
    "\"\"\"\n",
    "data_loader = DataLoader(train_addr='C:/Users/armin/Desktop/CIHW/MNIST/train', test_addr='C:/Users/armin/Desktop/CIHW/MNIST/test')\n",
    "data_loader.load()\n",
    "\"you can see how data is loaded\"\n",
    "# print(data_loader.getTrain()[0][0].shape)\n",
    "# print(data_loader.getTrain()[0][1].shape)"
   ]
  },
  {
   "cell_type": "code",
   "execution_count": 419,
   "metadata": {},
   "outputs": [
    {
     "name": "stdout",
     "output_type": "stream",
     "text": [
      "(500, 28, 28)\n",
      "(500,)\n",
      "(500, 28, 28)\n",
      "3\n"
     ]
    }
   ],
   "source": [
    "print(data_loader.getTrain()[0][0].shape)\n",
    "print(data_loader.getTrain()[0][1].shape)\n",
    "\n",
    "print(data_loader.getTrain()[0][0].shape)\n",
    "print(len(data_loader.getTrain()[1][0].shape))\n",
    "\n",
    "# for images, _ in data_loader.getTrain():\n",
    "#     images.data = images.data / 255.0\n",
    "# print(data_loader.getTrain()[0][0].data)\n",
    "#print(data_loader.getTrain()[0][1].data[0:5])\n",
    "# print(data_loader.getTrain())"
   ]
  },
  {
   "cell_type": "code",
   "execution_count": 420,
   "metadata": {},
   "outputs": [],
   "source": [
    "def reshape(x:Tensor, shape) -> Tensor:\n",
    "    data = x.data.reshape(-1, shape[0]*shape[1])\n",
    "    req_grad = x.requires_grad\n",
    "    depends_on = x.depends_on\n",
    "    return Tensor(data=data, requires_grad=req_grad, depends_on=depends_on)\n",
    "\n",
    "def reshape_labels(labels: Tensor) -> Tensor:\n",
    "    newData = np.zeros((labels.shape[0], 10))\n",
    "    for i, initial_value in enumerate(labels.data):\n",
    "        newData[i, initial_value] = 1\n",
    "    return Tensor(newData, labels.requires_grad, labels.depends_on)\n"
   ]
  },
  {
   "cell_type": "markdown",
   "metadata": {},
   "source": [
    "### Define and Create your Model"
   ]
  },
  {
   "cell_type": "code",
   "execution_count": 421,
   "metadata": {},
   "outputs": [
    {
     "name": "stdout",
     "output_type": "stream",
     "text": [
      "fc1:  linear - total param: 100352 - in: 784, out: 128\n",
      "fc2:  linear - total param: 16384 - in: 128, out: 128\n",
      "fc3:  linear - total param: 1280 - in: 128, out: 10\n",
      "None\n"
     ]
    }
   ],
   "source": [
    "class MyModel(Model):\n",
    "    def __init__(self):\n",
    "        \"TODO: define your layers. order is important\" \n",
    "        input_size = 28*28\n",
    "        output_size = 10\n",
    "        hidden_layer_1 = 128 \n",
    "        hidden_layer_2 = 128 \n",
    "        self.fc1 = nn.Linear(input_size, hidden_layer_1, need_bias=True)\n",
    "        self.fc2 = nn.Linear(hidden_layer_1, hidden_layer_2, need_bias=True)\n",
    "        self.fc3 = nn.Linear(hidden_layer_2, output_size, need_bias=True)\n",
    "        self.layers = [self.fc1, self.fc3]\n",
    "\n",
    "    def forward(self, x: Tensor) -> Tensor:\n",
    "        \"TODO: define forward pass\"\n",
    "        x = reshape(x, (28, 28))\n",
    "        x = active_func.leaky_relu(self.fc1(x))\n",
    "        x = active_func.leaky_relu(self.fc2(x))\n",
    "        x = self.fc3(x)\n",
    "        return active_func.softmax(x)\n",
    "\n",
    "model = MyModel()\n",
    "print(model.summary())"
   ]
  },
  {
   "cell_type": "markdown",
   "metadata": {},
   "source": [
    "### Choose a Loss Function"
   ]
  },
  {
   "cell_type": "code",
   "execution_count": 422,
   "metadata": {},
   "outputs": [],
   "source": [
    "\"TODO: choose a proper loss function\"\n",
    "criterion = loss_func.CategoricalCrossEntropy"
   ]
  },
  {
   "cell_type": "markdown",
   "metadata": {},
   "source": [
    "### Choose an Optimizer"
   ]
  },
  {
   "cell_type": "code",
   "execution_count": 423,
   "metadata": {},
   "outputs": [],
   "source": [
    "\"TODO: choose a proper optimizer\"\n",
    "optimizer = optim.SGD(model.layers, learning_rate=0.06)"
   ]
  },
  {
   "cell_type": "markdown",
   "metadata": {},
   "source": [
    "### Training Model"
   ]
  },
  {
   "cell_type": "code",
   "execution_count": 424,
   "metadata": {},
   "outputs": [],
   "source": [
    "import numpy as np"
   ]
  },
  {
   "cell_type": "code",
   "execution_count": 425,
   "metadata": {},
   "outputs": [
    {
     "name": "stdout",
     "output_type": "stream",
     "text": [
      "Epoch: 1 \tTraining Loss: 0.001981 \tValidation Loss: 0.009580\n",
      "Epoch: 1 \tTraining Accuracy: 0.168200 \tValidation Accuracy: 0.247000\n",
      "Epoch: 2 \tTraining Loss: 0.001817 \tValidation Loss: 0.008850\n",
      "Epoch: 2 \tTraining Accuracy: 0.391400 \tValidation Accuracy: 0.435000\n",
      "Epoch: 3 \tTraining Loss: 0.001639 \tValidation Loss: 0.008001\n",
      "Epoch: 3 \tTraining Accuracy: 0.561400 \tValidation Accuracy: 0.577000\n",
      "Epoch: 4 \tTraining Loss: 0.001443 \tValidation Loss: 0.007085\n",
      "Epoch: 4 \tTraining Accuracy: 0.676700 \tValidation Accuracy: 0.670000\n",
      "Epoch: 5 \tTraining Loss: 0.001250 \tValidation Loss: 0.006215\n",
      "Epoch: 5 \tTraining Accuracy: 0.735700 \tValidation Accuracy: 0.713000\n",
      "Epoch: 6 \tTraining Loss: 0.001081 \tValidation Loss: 0.005473\n",
      "Epoch: 6 \tTraining Accuracy: 0.768900 \tValidation Accuracy: 0.729000\n",
      "Epoch: 7 \tTraining Loss: 0.000944 \tValidation Loss: 0.004873\n",
      "Epoch: 7 \tTraining Accuracy: 0.792600 \tValidation Accuracy: 0.753000\n",
      "Epoch: 8 \tTraining Loss: 0.000838 \tValidation Loss: 0.004402\n",
      "Epoch: 8 \tTraining Accuracy: 0.808000 \tValidation Accuracy: 0.773000\n",
      "Epoch: 9 \tTraining Loss: 0.000755 \tValidation Loss: 0.004033\n",
      "Epoch: 9 \tTraining Accuracy: 0.824200 \tValidation Accuracy: 0.787000\n",
      "Epoch: 10 \tTraining Loss: 0.000690 \tValidation Loss: 0.003739\n",
      "Epoch: 10 \tTraining Accuracy: 0.836000 \tValidation Accuracy: 0.796000\n",
      "Epoch: 11 \tTraining Loss: 0.000638 \tValidation Loss: 0.003501\n",
      "Epoch: 11 \tTraining Accuracy: 0.844200 \tValidation Accuracy: 0.805000\n",
      "Epoch: 12 \tTraining Loss: 0.000596 \tValidation Loss: 0.003303\n",
      "Epoch: 12 \tTraining Accuracy: 0.851200 \tValidation Accuracy: 0.812000\n",
      "Epoch: 13 \tTraining Loss: 0.000561 \tValidation Loss: 0.003137\n",
      "Epoch: 13 \tTraining Accuracy: 0.857900 \tValidation Accuracy: 0.821000\n",
      "Epoch: 14 \tTraining Loss: 0.000532 \tValidation Loss: 0.002995\n",
      "Epoch: 14 \tTraining Accuracy: 0.863000 \tValidation Accuracy: 0.827000\n",
      "Epoch: 15 \tTraining Loss: 0.000507 \tValidation Loss: 0.002873\n",
      "Epoch: 15 \tTraining Accuracy: 0.867000 \tValidation Accuracy: 0.835000\n",
      "Epoch: 16 \tTraining Loss: 0.000485 \tValidation Loss: 0.002766\n",
      "Epoch: 16 \tTraining Accuracy: 0.872000 \tValidation Accuracy: 0.837000\n",
      "Epoch: 17 \tTraining Loss: 0.000466 \tValidation Loss: 0.002672\n",
      "Epoch: 17 \tTraining Accuracy: 0.875300 \tValidation Accuracy: 0.839000\n",
      "Epoch: 18 \tTraining Loss: 0.000449 \tValidation Loss: 0.002588\n",
      "Epoch: 18 \tTraining Accuracy: 0.877400 \tValidation Accuracy: 0.844000\n",
      "Epoch: 19 \tTraining Loss: 0.000434 \tValidation Loss: 0.002513\n",
      "Epoch: 19 \tTraining Accuracy: 0.880100 \tValidation Accuracy: 0.844000\n",
      "Epoch: 20 \tTraining Loss: 0.000421 \tValidation Loss: 0.002446\n",
      "Epoch: 20 \tTraining Accuracy: 0.883300 \tValidation Accuracy: 0.848000\n",
      "Epoch: 21 \tTraining Loss: 0.000409 \tValidation Loss: 0.002386\n",
      "Epoch: 21 \tTraining Accuracy: 0.885100 \tValidation Accuracy: 0.851000\n",
      "Epoch: 22 \tTraining Loss: 0.000398 \tValidation Loss: 0.002331\n",
      "Epoch: 22 \tTraining Accuracy: 0.887200 \tValidation Accuracy: 0.852000\n",
      "Epoch: 23 \tTraining Loss: 0.000389 \tValidation Loss: 0.002281\n",
      "Epoch: 23 \tTraining Accuracy: 0.888800 \tValidation Accuracy: 0.856000\n",
      "Epoch: 24 \tTraining Loss: 0.000380 \tValidation Loss: 0.002236\n",
      "Epoch: 24 \tTraining Accuracy: 0.890200 \tValidation Accuracy: 0.860000\n",
      "Epoch: 25 \tTraining Loss: 0.000371 \tValidation Loss: 0.002194\n",
      "Epoch: 25 \tTraining Accuracy: 0.892200 \tValidation Accuracy: 0.861000\n",
      "Epoch: 26 \tTraining Loss: 0.000364 \tValidation Loss: 0.002155\n",
      "Epoch: 26 \tTraining Accuracy: 0.893900 \tValidation Accuracy: 0.864000\n",
      "Epoch: 27 \tTraining Loss: 0.000357 \tValidation Loss: 0.002120\n",
      "Epoch: 27 \tTraining Accuracy: 0.895800 \tValidation Accuracy: 0.864000\n",
      "Epoch: 28 \tTraining Loss: 0.000350 \tValidation Loss: 0.002087\n",
      "Epoch: 28 \tTraining Accuracy: 0.897800 \tValidation Accuracy: 0.865000\n",
      "Epoch: 29 \tTraining Loss: 0.000344 \tValidation Loss: 0.002056\n",
      "Epoch: 29 \tTraining Accuracy: 0.899200 \tValidation Accuracy: 0.869000\n",
      "Epoch: 30 \tTraining Loss: 0.000339 \tValidation Loss: 0.002027\n",
      "Epoch: 30 \tTraining Accuracy: 0.900400 \tValidation Accuracy: 0.870000\n",
      "Epoch: 31 \tTraining Loss: 0.000334 \tValidation Loss: 0.002000\n",
      "Epoch: 31 \tTraining Accuracy: 0.900800 \tValidation Accuracy: 0.871000\n",
      "Epoch: 32 \tTraining Loss: 0.000329 \tValidation Loss: 0.001975\n",
      "Epoch: 32 \tTraining Accuracy: 0.901400 \tValidation Accuracy: 0.872000\n",
      "Epoch: 33 \tTraining Loss: 0.000324 \tValidation Loss: 0.001951\n",
      "Epoch: 33 \tTraining Accuracy: 0.902400 \tValidation Accuracy: 0.873000\n",
      "Epoch: 34 \tTraining Loss: 0.000320 \tValidation Loss: 0.001929\n",
      "Epoch: 34 \tTraining Accuracy: 0.903100 \tValidation Accuracy: 0.874000\n",
      "Epoch: 35 \tTraining Loss: 0.000316 \tValidation Loss: 0.001907\n",
      "Epoch: 35 \tTraining Accuracy: 0.904200 \tValidation Accuracy: 0.873000\n",
      "Epoch: 36 \tTraining Loss: 0.000312 \tValidation Loss: 0.001887\n",
      "Epoch: 36 \tTraining Accuracy: 0.905500 \tValidation Accuracy: 0.875000\n",
      "Epoch: 37 \tTraining Loss: 0.000308 \tValidation Loss: 0.001868\n",
      "Epoch: 37 \tTraining Accuracy: 0.905900 \tValidation Accuracy: 0.876000\n",
      "Epoch: 38 \tTraining Loss: 0.000305 \tValidation Loss: 0.001850\n",
      "Epoch: 38 \tTraining Accuracy: 0.907500 \tValidation Accuracy: 0.877000\n",
      "Epoch: 39 \tTraining Loss: 0.000301 \tValidation Loss: 0.001833\n",
      "Epoch: 39 \tTraining Accuracy: 0.908000 \tValidation Accuracy: 0.878000\n",
      "Epoch: 40 \tTraining Loss: 0.000298 \tValidation Loss: 0.001816\n",
      "Epoch: 40 \tTraining Accuracy: 0.908700 \tValidation Accuracy: 0.877000\n",
      "Epoch: 41 \tTraining Loss: 0.000295 \tValidation Loss: 0.001800\n",
      "Epoch: 41 \tTraining Accuracy: 0.909800 \tValidation Accuracy: 0.877000\n",
      "Epoch: 42 \tTraining Loss: 0.000292 \tValidation Loss: 0.001785\n",
      "Epoch: 42 \tTraining Accuracy: 0.910600 \tValidation Accuracy: 0.877000\n",
      "Epoch: 43 \tTraining Loss: 0.000289 \tValidation Loss: 0.001770\n",
      "Epoch: 43 \tTraining Accuracy: 0.911400 \tValidation Accuracy: 0.876000\n",
      "Epoch: 44 \tTraining Loss: 0.000286 \tValidation Loss: 0.001756\n",
      "Epoch: 44 \tTraining Accuracy: 0.912400 \tValidation Accuracy: 0.878000\n",
      "Epoch: 45 \tTraining Loss: 0.000284 \tValidation Loss: 0.001743\n",
      "Epoch: 45 \tTraining Accuracy: 0.913600 \tValidation Accuracy: 0.878000\n",
      "Epoch: 46 \tTraining Loss: 0.000281 \tValidation Loss: 0.001730\n",
      "Epoch: 46 \tTraining Accuracy: 0.914200 \tValidation Accuracy: 0.878000\n",
      "Epoch: 47 \tTraining Loss: 0.000279 \tValidation Loss: 0.001718\n",
      "Epoch: 47 \tTraining Accuracy: 0.914800 \tValidation Accuracy: 0.878000\n",
      "Epoch: 48 \tTraining Loss: 0.000277 \tValidation Loss: 0.001705\n",
      "Epoch: 48 \tTraining Accuracy: 0.915100 \tValidation Accuracy: 0.880000\n",
      "Epoch: 49 \tTraining Loss: 0.000274 \tValidation Loss: 0.001694\n",
      "Epoch: 49 \tTraining Accuracy: 0.915500 \tValidation Accuracy: 0.880000\n",
      "Epoch: 50 \tTraining Loss: 0.000272 \tValidation Loss: 0.001683\n",
      "Epoch: 50 \tTraining Accuracy: 0.915900 \tValidation Accuracy: 0.881000\n",
      "Epoch: 51 \tTraining Loss: 0.000270 \tValidation Loss: 0.001672\n",
      "Epoch: 51 \tTraining Accuracy: 0.917000 \tValidation Accuracy: 0.880000\n",
      "Epoch: 52 \tTraining Loss: 0.000268 \tValidation Loss: 0.001661\n",
      "Epoch: 52 \tTraining Accuracy: 0.917200 \tValidation Accuracy: 0.881000\n",
      "Epoch: 53 \tTraining Loss: 0.000266 \tValidation Loss: 0.001651\n",
      "Epoch: 53 \tTraining Accuracy: 0.918100 \tValidation Accuracy: 0.881000\n",
      "Epoch: 54 \tTraining Loss: 0.000264 \tValidation Loss: 0.001641\n",
      "Epoch: 54 \tTraining Accuracy: 0.918400 \tValidation Accuracy: 0.883000\n",
      "Epoch: 55 \tTraining Loss: 0.000262 \tValidation Loss: 0.001632\n",
      "Epoch: 55 \tTraining Accuracy: 0.919000 \tValidation Accuracy: 0.883000\n",
      "Epoch: 56 \tTraining Loss: 0.000260 \tValidation Loss: 0.001622\n",
      "Epoch: 56 \tTraining Accuracy: 0.919400 \tValidation Accuracy: 0.884000\n",
      "Epoch: 57 \tTraining Loss: 0.000258 \tValidation Loss: 0.001614\n",
      "Epoch: 57 \tTraining Accuracy: 0.919800 \tValidation Accuracy: 0.886000\n",
      "Epoch: 58 \tTraining Loss: 0.000257 \tValidation Loss: 0.001605\n",
      "Epoch: 58 \tTraining Accuracy: 0.920500 \tValidation Accuracy: 0.886000\n",
      "Epoch: 59 \tTraining Loss: 0.000255 \tValidation Loss: 0.001596\n",
      "Epoch: 59 \tTraining Accuracy: 0.920800 \tValidation Accuracy: 0.887000\n",
      "Epoch: 60 \tTraining Loss: 0.000253 \tValidation Loss: 0.001588\n",
      "Epoch: 60 \tTraining Accuracy: 0.921300 \tValidation Accuracy: 0.888000\n",
      "Epoch: 61 \tTraining Loss: 0.000252 \tValidation Loss: 0.001580\n",
      "Epoch: 61 \tTraining Accuracy: 0.921500 \tValidation Accuracy: 0.888000\n",
      "Epoch: 62 \tTraining Loss: 0.000250 \tValidation Loss: 0.001573\n",
      "Epoch: 62 \tTraining Accuracy: 0.921800 \tValidation Accuracy: 0.888000\n",
      "Epoch: 63 \tTraining Loss: 0.000248 \tValidation Loss: 0.001565\n",
      "Epoch: 63 \tTraining Accuracy: 0.922100 \tValidation Accuracy: 0.888000\n",
      "Epoch: 64 \tTraining Loss: 0.000247 \tValidation Loss: 0.001558\n",
      "Epoch: 64 \tTraining Accuracy: 0.921900 \tValidation Accuracy: 0.889000\n"
     ]
    }
   ],
   "source": [
    "\"TODO: define number of epoch and train batches of data on your model. also test each epoch.\"\n",
    "EPOCH = 64\n",
    "def normalize_images(images: Tensor) -> Tensor:\n",
    "    images.data = images.data / 255.0\n",
    "\n",
    "train_epoch_size = data_loader.getTrain()[0][0].shape[0] * len(data_loader.getTrain())\n",
    "train_batch_size =  data_loader.getTrain()[0][0].shape[0]\n",
    "test_epoch_size = data_loader.getTest()[0][0].shape[0] * len(data_loader.getTest())\n",
    "test_batch_size =  data_loader.getTest()[0][0].shape[0]\n",
    "train_acc = []\n",
    "test_acc = []\n",
    "for i in range(EPOCH):\n",
    "    epoch_train_acc = 0.0\n",
    "    epoch_valid_acc = 0.0\n",
    "    train_loss = 0.0\n",
    "    valid_loss = 0.0\n",
    "    \"TODO: train over your defined batches and save train accuracy for each epoch.\"\n",
    "    for images, labels in data_loader.getTrain():\n",
    "        if i == 0:\n",
    "            normalize_images(images)\n",
    "        predicted = model.forward(images)\n",
    "        reshaped_labels = reshape_labels(labels)\n",
    "        epoch_train_acc += np.sum(np.argmax(predicted.data, axis=1) == labels.data)/train_epoch_size\n",
    "        loss = criterion(predicted, reshaped_labels)\n",
    "        loss = loss * Tensor(np.ones((1)) / train_batch_size)\n",
    "        loss.backward(Tensor(np.ones_like(loss.data)))\n",
    "        optimizer.step()\n",
    "        optimizer.zero_grad()\n",
    "        train_loss += loss.data[0] \n",
    "    \"TODO: test your model after each training and save test accuracy for each epoch.\"\n",
    "    for images, labels in data_loader.getTest():\n",
    "        if i == 0:\n",
    "            normalize_images(images)\n",
    "        reshaped_labels = reshape_labels(labels)\n",
    "        output = model.forward(images)\n",
    "        epoch_valid_acc += np.sum(np.argmax(output.data, axis=1) == labels.data)/test_epoch_size\n",
    "        loss = criterion(output, reshaped_labels)\n",
    "        loss = loss * Tensor(np.ones((1)) / test_batch_size)\n",
    "        valid_loss += loss.data[0]\n",
    "     \n",
    "    # print training/validation statistics \n",
    "    # calculate average loss over an epoch\n",
    "    train_loss = train_loss/train_epoch_size\n",
    "    valid_loss = valid_loss/test_epoch_size\n",
    "    test_acc.append(epoch_valid_acc)\n",
    "    train_acc.append(epoch_train_acc)\n",
    "    print('Epoch: {} \\tTraining Loss: {:.6f} \\tValidation Loss: {:.6f}'.format(\n",
    "        i+1, \n",
    "        train_loss,\n",
    "        valid_loss\n",
    "        ))\n",
    "    print('Epoch: {} \\tTraining Accuracy: {:.6f} \\tValidation Accuracy: {:.6f}'.format(\n",
    "        i+1, \n",
    "        epoch_train_acc,\n",
    "        epoch_valid_acc\n",
    "        ))"
   ]
  },
  {
   "cell_type": "markdown",
   "metadata": {},
   "source": [
    "### Evaluate Model Performance"
   ]
  },
  {
   "cell_type": "code",
   "execution_count": 426,
   "metadata": {},
   "outputs": [
    {
     "data": {
      "image/png": "[encoded data removed]",
      "text/plain": [
       "<Figure size 640x480 with 1 Axes>"
      ]
     },
     "metadata": {},
     "output_type": "display_data"
    },
    {
     "name": "stdout",
     "output_type": "stream",
     "text": [
      "\n",
      "On train - best accuracy: 0.92, final accuracy: 0.92\n",
      "On test - best accuracy: 0.89, final accuracy: 0.89\n"
     ]
    }
   ],
   "source": [
    "plt.plot(train_acc, label='train accuracy')\n",
    "plt.plot(test_acc, label = 'test accuracy')\n",
    "plt.xlabel('Epoch')\n",
    "plt.ylabel('Accuracy')\n",
    "plt.legend(loc='lower right')\n",
    "plt.show();\n",
    "best_train_acc = np.max(train_acc)\n",
    "best_test_acc = np.max(test_acc)\n",
    "\n",
    "print(\"\\nOn train - best accuracy: {:.2f}, final accuracy: {:.2f}\".format(best_train_acc, train_acc[-1]))\n",
    "print(\"On test - best accuracy: {:.2f}, final accuracy: {:.2f}\".format(best_test_acc, test_acc[-1]))"
   ]
  }
 ],
 "metadata": {
  "kernelspec": {
   "display_name": "Python 3 (ipykernel)",
   "language": "python",
   "name": "python3"
  },
  "language_info": {
   "codemirror_mode": {
    "name": "ipython",
    "version": 3
   },
   "file_extension": ".py",
   "mimetype": "text/x-python",
   "name": "python",
   "nbconvert_exporter": "python",
   "pygments_lexer": "ipython3",
   "version": "3.11.7"
  }
 },
 "nbformat": 4,
 "nbformat_minor": 2
}
